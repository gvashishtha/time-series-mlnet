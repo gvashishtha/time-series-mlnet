{
 "cells": [
  {
   "cell_type": "code",
   "execution_count": 13,
   "metadata": {},
   "outputs": [
    {
     "data": {
      "text/html": [
       "Installed package Microsoft.ML.Mkl.Components version 1.5.0-preview2"
      ]
     },
     "metadata": {},
     "output_type": "display_data"
    },
    {
     "data": {
      "text/html": [
       "Installed package Microsoft.Data.Analysis version 0.2.0"
      ]
     },
     "metadata": {},
     "output_type": "display_data"
    },
    {
     "data": {
      "text/html": [
       "Installed package XPlot.Plotly version 2.0.0"
      ]
     },
     "metadata": {},
     "output_type": "display_data"
    },
    {
     "data": {
      "text/html": [
       "Installed package Microsoft.ML version 1.5.0-preview2"
      ]
     },
     "metadata": {},
     "output_type": "display_data"
    }
   ],
   "source": [
    "// ML.NET Nuget packages installation\n",
    "#r \"nuget:Microsoft.ML,1.5.0-preview2\"\n",
    "#r \"nuget:Microsoft.ML.Mkl.Components,1.5.0-preview2\"\n",
    "\n",
    "//Install XPlot package\n",
    "#r \"nuget:XPlot.Plotly,2.0.0\"\n",
    "\n",
    "// Install data analysis package\n",
    "#r \"nuget:Microsoft.Data.Analysis,0.2.0\""
   ]
  },
  {
   "cell_type": "code",
   "execution_count": 14,
   "metadata": {},
   "outputs": [],
   "source": [
    "using Microsoft.ML;\n",
    "using Microsoft.ML.Data;\n",
    "public class TemperaturePoint\n",
    "{\n",
    "    [LoadColumn(0)]\n",
    "    public string Date;\n",
    "\n",
    "    [LoadColumn(1)]\n",
    "    public float MinTemp;\n",
    "\n",
    "}\n",
    "\n",
    "public class TemperatureParsed\n",
    "{\n",
    "    public float MinTemp;\n",
    "    public int Month;\n",
    "    public int Year;\n",
    "    public int Day;\n",
    "    public DateTime Date;\n",
    "    public float DaysSinceStart;\n",
    "}"
   ]
  },
  {
   "cell_type": "code",
   "execution_count": 15,
   "metadata": {},
   "outputs": [
    {
     "data": {
      "text/html": [
       "1981-01-01 00:00:00Z"
      ]
     },
     "metadata": {},
     "output_type": "display_data"
    },
    {
     "data": {
      "text/html": [
       "3650"
      ]
     },
     "metadata": {},
     "output_type": "display_data"
    }
   ],
   "source": [
    "MLContext mlContext = new MLContext(seed: 0);\n",
    "IDataView trainDataView = mlContext.Data.LoadFromTextFile<TemperaturePoint>(\"daily-minimum-temperatures-in-me.csv\", hasHeader: true, separatorChar: ',');\n",
    "\n",
    "// extract minimum date for later processing\n",
    "IEnumerable<string> dateColumn = trainDataView.GetColumn<string>(\"Date\").ToList();\n",
    "DateTime minDate = DateTime.Parse(dateColumn.Min());\n",
    "\n",
    "int totalRows = dateColumn.Count();\n",
    "display(minDate);\n",
    "display(totalRows);"
   ]
  },
  {
   "cell_type": "code",
   "execution_count": 16,
   "metadata": {},
   "outputs": [
    {
     "data": {
      "text/html": [
       "<h4>Showing a few rows from training DataView:</h4>"
      ]
     },
     "metadata": {},
     "output_type": "display_data"
    },
    {
     "data": {
      "text/plain": [
       "DataView: Showing 5 rows with the columns"
      ]
     },
     "metadata": {},
     "output_type": "display_data"
    },
    {
     "data": {
      "text/html": [
       "<table><thead><tr><th><i>index</i></th><th>Date</th><th>MinTemp</th></tr></thead><tbody><tr><td>0</td><td>1/1/1981</td><td>20.7</td></tr><tr><td>1</td><td>1/2/1981</td><td>17.9</td></tr><tr><td>2</td><td>1/3/1981</td><td>18.8</td></tr><tr><td>3</td><td>1/4/1981</td><td>14.6</td></tr><tr><td>4</td><td>1/5/1981</td><td>15.8</td></tr></tbody></table>"
      ]
     },
     "metadata": {},
     "output_type": "display_data"
    }
   ],
   "source": [
    "public static List<TemperaturePoint> Head(MLContext mlContext, IDataView dataView, int numberOfRows = 4)\n",
    "{\n",
    "    string msg = string.Format(\"DataView: Showing {0} rows with the columns\", numberOfRows.ToString());\n",
    "    display(msg);\n",
    "          \n",
    "    var rows = mlContext.Data.CreateEnumerable<TemperaturePoint>(dataView, reuseRowObject: false)\n",
    "                    .Take(numberOfRows)\n",
    "                    .ToList();\n",
    "    \n",
    "    return rows;\n",
    "}\n",
    "\n",
    "display(h4(\"Showing a few rows from training DataView:\"));\n",
    "\n",
    "var fewRows = Head(mlContext, trainDataView, 5);\n",
    "display(fewRows);"
   ]
  },
  {
   "cell_type": "code",
   "execution_count": 17,
   "metadata": {
    "collapsed": false,
    "jupyter": {
     "outputs_hidden": false,
     "source_hidden": false
    },
    "nteract": {
     "transient": {
      "deleting": false
     }
    }
   },
   "outputs": [
    {
     "data": {
      "text/plain": [
       "DataView: Showing 5 rows with the columns"
      ]
     },
     "metadata": {},
     "output_type": "display_data"
    },
    {
     "data": {
      "text/html": [
       "<table><thead><tr><th><i>index</i></th><th>MinTemp</th><th>Month</th><th>Year</th><th>Day</th><th>Date</th><th>DaysSinceStart</th></tr></thead><tbody><tr><td>0</td><td>20.7</td><td>1</td><td>1981</td><td>1</td><td>1981-01-01 00:00:00Z</td><td>0</td></tr><tr><td>1</td><td>17.9</td><td>1</td><td>1981</td><td>2</td><td>1981-01-02 00:00:00Z</td><td>1</td></tr><tr><td>2</td><td>18.8</td><td>1</td><td>1981</td><td>3</td><td>1981-01-03 00:00:00Z</td><td>2</td></tr><tr><td>3</td><td>14.6</td><td>1</td><td>1981</td><td>4</td><td>1981-01-04 00:00:00Z</td><td>3</td></tr><tr><td>4</td><td>15.8</td><td>1</td><td>1981</td><td>5</td><td>1981-01-05 00:00:00Z</td><td>4</td></tr></tbody></table>"
      ]
     },
     "metadata": {},
     "output_type": "display_data"
    }
   ],
   "source": [
    "using System;\n",
    "using System.Collections.Generic;\n",
    "\n",
    "Action<TemperaturePoint, TemperatureParsed> mapping = (input, output) =>\n",
    "    {\n",
    "        const string DATETIME_FORMAT = \"MM/dd/yyyy\";\n",
    "        output.MinTemp = input.MinTemp;\n",
    "        \n",
    "        DateTime result = DateTime.Parse(input.Date);\n",
    "        output.Day = result.Day;\n",
    "        output.Month = result.Month;\n",
    "        output.Year = result.Year;\n",
    "        output.Date = result;\n",
    "        output.DaysSinceStart = (result-minDate).Days;\n",
    "\n",
    "\n",
    "    };\n",
    "\n",
    "var estimator = mlContext.Transforms.CustomMapping(mapping, null)\n",
    "                .Append(mlContext.Transforms.Concatenate(outputColumnName: \"DaysSince\",\n",
    "                                                         inputColumnNames: new[] { \"DaysSinceStart\" }))\n",
    "                .AppendCacheCheckpoint(mlContext);\n",
    "\n",
    "public static List<TemperatureParsed> Head(MLContext mlContext, IDataView dataView, int numberOfRows = 4)\n",
    "{\n",
    "    string msg = string.Format(\"DataView: Showing {0} rows with the columns\", numberOfRows.ToString());\n",
    "    display(msg);\n",
    "          \n",
    "    var rows = mlContext.Data.CreateEnumerable<TemperatureParsed>(dataView, reuseRowObject: false)\n",
    "                    .Take(numberOfRows)\n",
    "                    .ToList();\n",
    "    \n",
    "    return rows;\n",
    "}\n",
    "\n",
    "var model = estimator.Fit(trainDataView);\n",
    "var transformedData = model.Transform(trainDataView);\n",
    "display(Head(mlContext, transformedData, 5));"
   ]
  },
  {
   "cell_type": "code",
   "execution_count": 22,
   "metadata": {
    "collapsed": false,
    "jupyter": {
     "outputs_hidden": false,
     "source_hidden": false
    },
    "nteract": {
     "transient": {
      "deleting": false
     }
    }
   },
   "outputs": [],
   "source": [
    "//Extract some data into arrays for plotting:\n",
    " \n",
    "int numberOfRows = 730;\n",
    "float[] temps = transformedData.GetColumn<float>(\"MinTemp\").Take(numberOfRows).ToArray();\n",
    "DateTime[] dates = transformedData.GetColumn<DateTime>(\"Date\").Take(numberOfRows).ToArray();"
   ]
  },
  {
   "cell_type": "code",
   "execution_count": 23,
   "metadata": {
    "collapsed": false,
    "jupyter": {
     "outputs_hidden": false,
     "source_hidden": false
    },
    "nteract": {
     "transient": {
      "deleting": false
     }
    }
   },
   "outputs": [
    {
     "data": {
      "text/html": [
       "2920"
      ]
     },
     "metadata": {},
     "output_type": "display_data"
    }
   ],
   "source": [
    "int numTrain = (int) (0.8 * totalRows);\n",
    "display(numTrain);\n",
    "IDataView trainData = mlContext.Data.FilterRowsByColumn(transformedData, \"DaysSinceStart\", upperBound: numTrain);\n",
    "IDataView testData = mlContext.Data.FilterRowsByColumn(transformedData, \"DaysSinceStart\", lowerBound: numTrain);"
   ]
  },
  {
   "cell_type": "code",
   "execution_count": 24,
   "metadata": {
    "collapsed": false,
    "jupyter": {
     "outputs_hidden": false,
     "source_hidden": false
    },
    "nteract": {
     "transient": {
      "deleting": false
     }
    }
   },
   "outputs": [
    {
     "data": {
      "text/html": [
       "<div id=\"e9e15455-0d7e-47e1-9256-ab1368140d44\" style=\"width: 600px; height: 600px;\"></div>\r\n",
       "<script type=\"text/javascript\">\n",
       "\r\n",
       "var renderPlotly = function() {\r\n",
       "    var xplotRequire = requirejs.config({context:'xplot-3.0.1',paths:{plotly:'https://cdn.plot.ly/plotly-1.49.2.min'}});\r\n",
       "    xplotRequire(['plotly'], function(Plotly) {\n",
       "\n",
       "            var data = [{\"type\":\"scattergl\",\"x\":[\"1981-01-01T00:00:00\",\"1981-01-02T00:00:00\",\"1981-01-03T00:00:00\",\"1981-01-04T00:00:00\",\"1981-01-05T00:00:00\",\"1981-01-06T00:00:00\",\"1981-01-07T00:00:00\",\"1981-01-08T00:00:00\",\"1981-01-09T00:00:00\",\"1981-01-10T00:00:00\",\"1981-01-11T00:00:00\",\"1981-01-12T00:00:00\",\"1981-01-13T00:00:00\",\"1981-01-14T00:00:00\",\"1981-01-15T00:00:00\",\"1981-01-16T00:00:00\",\"1981-01-17T00:00:00\",\"1981-01-18T00:00:00\",\"1981-01-19T00:00:00\",\"1981-01-20T00:00:00\",\"1981-01-21T00:00:00\",\"1981-01-22T00:00:00\",\"1981-01-23T00:00:00\",\"1981-01-24T00:00:00\",\"1981-01-25T00:00:00\",\"1981-01-26T00:00:00\",\"1981-01-27T00:00:00\",\"1981-01-28T00:00:00\",\"1981-01-29T00:00:00\",\"1981-01-30T00:00:00\",\"1981-01-31T00:00:00\",\"1981-02-01T00:00:00\",\"1981-02-02T00:00:00\",\"1981-02-03T00:00:00\",\"1981-02-04T00:00:00\",\"1981-02-05T00:00:00\",\"1981-02-06T00:00:00\",\"1981-02-07T00:00:00\",\"1981-02-08T00:00:00\",\"1981-02-09T00:00:00\",\"1981-02-10T00:00:00\",\"1981-02-11T00:00:00\",\"1981-02-12T00:00:00\",\"1981-02-13T00:00:00\",\"1981-02-14T00:00:00\",\"1981-02-15T00:00:00\",\"1981-02-16T00:00:00\",\"1981-02-17T00:00:00\",\"1981-02-18T00:00:00\",\"1981-02-19T00:00:00\",\"1981-02-20T00:00:00\",\"1981-02-21T00:00:00\",\"1981-02-22T00:00:00\",\"1981-02-23T00:00:00\",\"1981-02-24T00:00:00\",\"1981-02-25T00:00:00\",\"1981-02-26T00:00:00\",\"1981-02-27T00:00:00\",\"1981-02-28T00:00:00\",\"1981-03-01T00:00:00\",\"1981-03-02T00:00:00\",\"1981-03-03T00:00:00\",\"1981-03-04T00:00:00\",\"1981-03-05T00:00:00\",\"1981-03-06T00:00:00\",\"1981-03-07T00:00:00\",\"1981-03-08T00:00:00\",\"1981-03-09T00:00:00\",\"1981-03-10T00:00:00\",\"1981-03-11T00:00:00\",\"1981-03-12T00:00:00\",\"1981-03-13T00:00:00\",\"1981-03-14T00:00:00\",\"1981-03-15T00:00:00\",\"1981-03-16T00:00:00\",\"1981-03-17T00:00:00\",\"1981-03-18T00:00:00\",\"1981-03-19T00:00:00\",\"1981-03-20T00:00:00\",\"1981-03-21T00:00:00\",\"1981-03-22T00:00:00\",\"1981-03-23T00:00:00\",\"1981-03-24T00:00:00\",\"1981-03-25T00:00:00\",\"1981-03-26T00:00:00\",\"1981-03-27T00:00:00\",\"1981-03-28T00:00:00\",\"1981-03-29T00:00:00\",\"1981-03-30T00:00:00\",\"1981-03-31T00:00:00\",\"1981-04-01T00:00:00\",\"1981-04-02T00:00:00\",\"1981-04-03T00:00:00\",\"1981-04-04T00:00:00\",\"1981-04-05T00:00:00\",\"1981-04-06T00:00:00\",\"1981-04-07T00:00:00\",\"1981-04-08T00:00:00\",\"1981-04-09T00:00:00\",\"1981-04-10T00:00:00\",\"1981-04-11T00:00:00\",\"1981-04-12T00:00:00\",\"1981-04-13T00:00:00\",\"1981-04-14T00:00:00\",\"1981-04-15T00:00:00\",\"1981-04-16T00:00:00\",\"1981-04-17T00:00:00\",\"1981-04-18T00:00:00\",\"1981-04-19T00:00:00\",\"1981-04-20T00:00:00\",\"1981-04-21T00:00:00\",\"1981-04-22T00:00:00\",\"1981-04-23T00:00:00\",\"1981-04-24T00:00:00\",\"1981-04-25T00:00:00\",\"1981-04-26T00:00:00\",\"1981-04-27T00:00:00\",\"1981-04-28T00:00:00\",\"1981-04-29T00:00:00\",\"1981-04-30T00:00:00\",\"1981-05-01T00:00:00\",\"1981-05-02T00:00:00\",\"1981-05-03T00:00:00\",\"1981-05-04T00:00:00\",\"1981-05-05T00:00:00\",\"1981-05-06T00:00:00\",\"1981-05-07T00:00:00\",\"1981-05-08T00:00:00\",\"1981-05-09T00:00:00\",\"1981-05-10T00:00:00\",\"1981-05-11T00:00:00\",\"1981-05-12T00:00:00\",\"1981-05-13T00:00:00\",\"1981-05-14T00:00:00\",\"1981-05-15T00:00:00\",\"1981-05-16T00:00:00\",\"1981-05-17T00:00:00\",\"1981-05-18T00:00:00\",\"1981-05-19T00:00:00\",\"1981-05-20T00:00:00\",\"1981-05-21T00:00:00\",\"1981-05-22T00:00:00\",\"1981-05-23T00:00:00\",\"1981-05-24T00:00:00\",\"1981-05-25T00:00:00\",\"1981-05-26T00:00:00\",\"1981-05-27T00:00:00\",\"1981-05-28T00:00:00\",\"1981-05-29T00:00:00\",\"1981-05-30T00:00:00\",\"1981-05-31T00:00:00\",\"1981-06-01T00:00:00\",\"1981-06-02T00:00:00\",\"1981-06-03T00:00:00\",\"1981-06-04T00:00:00\",\"1981-06-05T00:00:00\",\"1981-06-06T00:00:00\",\"1981-06-07T00:00:00\",\"1981-06-08T00:00:00\",\"1981-06-09T00:00:00\",\"1981-06-10T00:00:00\",\"1981-06-11T00:00:00\",\"1981-06-12T00:00:00\",\"1981-06-13T00:00:00\",\"1981-06-14T00:00:00\",\"1981-06-15T00:00:00\",\"1981-06-16T00:00:00\",\"1981-06-17T00:00:00\",\"1981-06-18T00:00:00\",\"1981-06-19T00:00:00\",\"1981-06-20T00:00:00\",\"1981-06-21T00:00:00\",\"1981-06-22T00:00:00\",\"1981-06-23T00:00:00\",\"1981-06-24T00:00:00\",\"1981-06-25T00:00:00\",\"1981-06-26T00:00:00\",\"1981-06-27T00:00:00\",\"1981-06-28T00:00:00\",\"1981-06-29T00:00:00\",\"1981-06-30T00:00:00\",\"1981-07-01T00:00:00\",\"1981-07-02T00:00:00\",\"1981-07-03T00:00:00\",\"1981-07-04T00:00:00\",\"1981-07-05T00:00:00\",\"1981-07-06T00:00:00\",\"1981-07-07T00:00:00\",\"1981-07-08T00:00:00\",\"1981-07-09T00:00:00\",\"1981-07-10T00:00:00\",\"1981-07-11T00:00:00\",\"1981-07-12T00:00:00\",\"1981-07-13T00:00:00\",\"1981-07-14T00:00:00\",\"1981-07-15T00:00:00\",\"1981-07-16T00:00:00\",\"1981-07-17T00:00:00\",\"1981-07-18T00:00:00\",\"1981-07-19T00:00:00\",\"1981-07-20T00:00:00\",\"1981-07-21T00:00:00\",\"1981-07-22T00:00:00\",\"1981-07-23T00:00:00\",\"1981-07-24T00:00:00\",\"1981-07-25T00:00:00\",\"1981-07-26T00:00:00\",\"1981-07-27T00:00:00\",\"1981-07-28T00:00:00\",\"1981-07-29T00:00:00\",\"1981-07-30T00:00:00\",\"1981-07-31T00:00:00\",\"1981-08-01T00:00:00\",\"1981-08-02T00:00:00\",\"1981-08-03T00:00:00\",\"1981-08-04T00:00:00\",\"1981-08-05T00:00:00\",\"1981-08-06T00:00:00\",\"1981-08-07T00:00:00\",\"1981-08-08T00:00:00\",\"1981-08-09T00:00:00\",\"1981-08-10T00:00:00\",\"1981-08-11T00:00:00\",\"1981-08-12T00:00:00\",\"1981-08-13T00:00:00\",\"1981-08-14T00:00:00\",\"1981-08-15T00:00:00\",\"1981-08-16T00:00:00\",\"1981-08-17T00:00:00\",\"1981-08-18T00:00:00\",\"1981-08-19T00:00:00\",\"1981-08-20T00:00:00\",\"1981-08-21T00:00:00\",\"1981-08-22T00:00:00\",\"1981-08-23T00:00:00\",\"1981-08-24T00:00:00\",\"1981-08-25T00:00:00\",\"1981-08-26T00:00:00\",\"1981-08-27T00:00:00\",\"1981-08-28T00:00:00\",\"1981-08-29T00:00:00\",\"1981-08-30T00:00:00\",\"1981-08-31T00:00:00\",\"1981-09-01T00:00:00\",\"1981-09-02T00:00:00\",\"1981-09-03T00:00:00\",\"1981-09-04T00:00:00\",\"1981-09-05T00:00:00\",\"1981-09-06T00:00:00\",\"1981-09-07T00:00:00\",\"1981-09-08T00:00:00\",\"1981-09-09T00:00:00\",\"1981-09-10T00:00:00\",\"1981-09-11T00:00:00\",\"1981-09-12T00:00:00\",\"1981-09-13T00:00:00\",\"1981-09-14T00:00:00\",\"1981-09-15T00:00:00\",\"1981-09-16T00:00:00\",\"1981-09-17T00:00:00\",\"1981-09-18T00:00:00\",\"1981-09-19T00:00:00\",\"1981-09-20T00:00:00\",\"1981-09-21T00:00:00\",\"1981-09-22T00:00:00\",\"1981-09-23T00:00:00\",\"1981-09-24T00:00:00\",\"1981-09-25T00:00:00\",\"1981-09-26T00:00:00\",\"1981-09-27T00:00:00\",\"1981-09-28T00:00:00\",\"1981-09-29T00:00:00\",\"1981-09-30T00:00:00\",\"1981-10-01T00:00:00\",\"1981-10-02T00:00:00\",\"1981-10-03T00:00:00\",\"1981-10-04T00:00:00\",\"1981-10-05T00:00:00\",\"1981-10-06T00:00:00\",\"1981-10-07T00:00:00\",\"1981-10-08T00:00:00\",\"1981-10-09T00:00:00\",\"1981-10-10T00:00:00\",\"1981-10-11T00:00:00\",\"1981-10-12T00:00:00\",\"1981-10-13T00:00:00\",\"1981-10-14T00:00:00\",\"1981-10-15T00:00:00\",\"1981-10-16T00:00:00\",\"1981-10-17T00:00:00\",\"1981-10-18T00:00:00\",\"1981-10-19T00:00:00\",\"1981-10-20T00:00:00\",\"1981-10-21T00:00:00\",\"1981-10-22T00:00:00\",\"1981-10-23T00:00:00\",\"1981-10-24T00:00:00\",\"1981-10-25T00:00:00\",\"1981-10-26T00:00:00\",\"1981-10-27T00:00:00\",\"1981-10-28T00:00:00\",\"1981-10-29T00:00:00\",\"1981-10-30T00:00:00\",\"1981-10-31T00:00:00\",\"1981-11-01T00:00:00\",\"1981-11-02T00:00:00\",\"1981-11-03T00:00:00\",\"1981-11-04T00:00:00\",\"1981-11-05T00:00:00\",\"1981-11-06T00:00:00\",\"1981-11-07T00:00:00\",\"1981-11-08T00:00:00\",\"1981-11-09T00:00:00\",\"1981-11-10T00:00:00\",\"1981-11-11T00:00:00\",\"1981-11-12T00:00:00\",\"1981-11-13T00:00:00\",\"1981-11-14T00:00:00\",\"1981-11-15T00:00:00\",\"1981-11-16T00:00:00\",\"1981-11-17T00:00:00\",\"1981-11-18T00:00:00\",\"1981-11-19T00:00:00\",\"1981-11-20T00:00:00\",\"1981-11-21T00:00:00\",\"1981-11-22T00:00:00\",\"1981-11-23T00:00:00\",\"1981-11-24T00:00:00\",\"1981-11-25T00:00:00\",\"1981-11-26T00:00:00\",\"1981-11-27T00:00:00\",\"1981-11-28T00:00:00\",\"1981-11-29T00:00:00\",\"1981-11-30T00:00:00\",\"1981-12-01T00:00:00\",\"1981-12-02T00:00:00\",\"1981-12-03T00:00:00\",\"1981-12-04T00:00:00\",\"1981-12-05T00:00:00\",\"1981-12-06T00:00:00\",\"1981-12-07T00:00:00\",\"1981-12-08T00:00:00\",\"1981-12-09T00:00:00\",\"1981-12-10T00:00:00\",\"1981-12-11T00:00:00\",\"1981-12-12T00:00:00\",\"1981-12-13T00:00:00\",\"1981-12-14T00:00:00\",\"1981-12-15T00:00:00\",\"1981-12-16T00:00:00\",\"1981-12-17T00:00:00\",\"1981-12-18T00:00:00\",\"1981-12-19T00:00:00\",\"1981-12-20T00:00:00\",\"1981-12-21T00:00:00\",\"1981-12-22T00:00:00\",\"1981-12-23T00:00:00\",\"1981-12-24T00:00:00\",\"1981-12-25T00:00:00\",\"1981-12-26T00:00:00\",\"1981-12-27T00:00:00\",\"1981-12-28T00:00:00\",\"1981-12-29T00:00:00\",\"1981-12-30T00:00:00\",\"1981-12-31T00:00:00\",\"1982-01-01T00:00:00\",\"1982-01-02T00:00:00\",\"1982-01-03T00:00:00\",\"1982-01-04T00:00:00\",\"1982-01-05T00:00:00\",\"1982-01-06T00:00:00\",\"1982-01-07T00:00:00\",\"1982-01-08T00:00:00\",\"1982-01-09T00:00:00\",\"1982-01-10T00:00:00\",\"1982-01-11T00:00:00\",\"1982-01-12T00:00:00\",\"1982-01-13T00:00:00\",\"1982-01-14T00:00:00\",\"1982-01-15T00:00:00\",\"1982-01-16T00:00:00\",\"1982-01-17T00:00:00\",\"1982-01-18T00:00:00\",\"1982-01-19T00:00:00\",\"1982-01-20T00:00:00\",\"1982-01-21T00:00:00\",\"1982-01-22T00:00:00\",\"1982-01-23T00:00:00\",\"1982-01-24T00:00:00\",\"1982-01-25T00:00:00\",\"1982-01-26T00:00:00\",\"1982-01-27T00:00:00\",\"1982-01-28T00:00:00\",\"1982-01-29T00:00:00\",\"1982-01-30T00:00:00\",\"1982-01-31T00:00:00\",\"1982-02-01T00:00:00\",\"1982-02-02T00:00:00\",\"1982-02-03T00:00:00\",\"1982-02-04T00:00:00\",\"1982-02-05T00:00:00\",\"1982-02-06T00:00:00\",\"1982-02-07T00:00:00\",\"1982-02-08T00:00:00\",\"1982-02-09T00:00:00\",\"1982-02-10T00:00:00\",\"1982-02-11T00:00:00\",\"1982-02-12T00:00:00\",\"1982-02-13T00:00:00\",\"1982-02-14T00:00:00\",\"1982-02-15T00:00:00\",\"1982-02-16T00:00:00\",\"1982-02-17T00:00:00\",\"1982-02-18T00:00:00\",\"1982-02-19T00:00:00\",\"1982-02-20T00:00:00\",\"1982-02-21T00:00:00\",\"1982-02-22T00:00:00\",\"1982-02-23T00:00:00\",\"1982-02-24T00:00:00\",\"1982-02-25T00:00:00\",\"1982-02-26T00:00:00\",\"1982-02-27T00:00:00\",\"1982-02-28T00:00:00\",\"1982-03-01T00:00:00\",\"1982-03-02T00:00:00\",\"1982-03-03T00:00:00\",\"1982-03-04T00:00:00\",\"1982-03-05T00:00:00\",\"1982-03-06T00:00:00\",\"1982-03-07T00:00:00\",\"1982-03-08T00:00:00\",\"1982-03-09T00:00:00\",\"1982-03-10T00:00:00\",\"1982-03-11T00:00:00\",\"1982-03-12T00:00:00\",\"1982-03-13T00:00:00\",\"1982-03-14T00:00:00\",\"1982-03-15T00:00:00\",\"1982-03-16T00:00:00\",\"1982-03-17T00:00:00\",\"1982-03-18T00:00:00\",\"1982-03-19T00:00:00\",\"1982-03-20T00:00:00\",\"1982-03-21T00:00:00\",\"1982-03-22T00:00:00\",\"1982-03-23T00:00:00\",\"1982-03-24T00:00:00\",\"1982-03-25T00:00:00\",\"1982-03-26T00:00:00\",\"1982-03-27T00:00:00\",\"1982-03-28T00:00:00\",\"1982-03-29T00:00:00\",\"1982-03-30T00:00:00\",\"1982-03-31T00:00:00\",\"1982-04-01T00:00:00\",\"1982-04-02T00:00:00\",\"1982-04-03T00:00:00\",\"1982-04-04T00:00:00\",\"1982-04-05T00:00:00\",\"1982-04-06T00:00:00\",\"1982-04-07T00:00:00\",\"1982-04-08T00:00:00\",\"1982-04-09T00:00:00\",\"1982-04-10T00:00:00\",\"1982-04-11T00:00:00\",\"1982-04-12T00:00:00\",\"1982-04-13T00:00:00\",\"1982-04-14T00:00:00\",\"1982-04-15T00:00:00\",\"1982-04-16T00:00:00\",\"1982-04-17T00:00:00\",\"1982-04-18T00:00:00\",\"1982-04-19T00:00:00\",\"1982-04-20T00:00:00\",\"1982-04-21T00:00:00\",\"1982-04-22T00:00:00\",\"1982-04-23T00:00:00\",\"1982-04-24T00:00:00\",\"1982-04-25T00:00:00\",\"1982-04-26T00:00:00\",\"1982-04-27T00:00:00\",\"1982-04-28T00:00:00\",\"1982-04-29T00:00:00\",\"1982-04-30T00:00:00\",\"1982-05-01T00:00:00\",\"1982-05-02T00:00:00\",\"1982-05-03T00:00:00\",\"1982-05-04T00:00:00\",\"1982-05-05T00:00:00\",\"1982-05-06T00:00:00\",\"1982-05-07T00:00:00\",\"1982-05-08T00:00:00\",\"1982-05-09T00:00:00\",\"1982-05-10T00:00:00\",\"1982-05-11T00:00:00\",\"1982-05-12T00:00:00\",\"1982-05-13T00:00:00\",\"1982-05-14T00:00:00\",\"1982-05-15T00:00:00\",\"1982-05-16T00:00:00\",\"1982-05-17T00:00:00\",\"1982-05-18T00:00:00\",\"1982-05-19T00:00:00\",\"1982-05-20T00:00:00\",\"1982-05-21T00:00:00\",\"1982-05-22T00:00:00\",\"1982-05-23T00:00:00\",\"1982-05-24T00:00:00\",\"1982-05-25T00:00:00\",\"1982-05-26T00:00:00\",\"1982-05-27T00:00:00\",\"1982-05-28T00:00:00\",\"1982-05-29T00:00:00\",\"1982-05-30T00:00:00\",\"1982-05-31T00:00:00\",\"1982-06-01T00:00:00\",\"1982-06-02T00:00:00\",\"1982-06-03T00:00:00\",\"1982-06-04T00:00:00\",\"1982-06-05T00:00:00\",\"1982-06-06T00:00:00\",\"1982-06-07T00:00:00\",\"1982-06-08T00:00:00\",\"1982-06-09T00:00:00\",\"1982-06-10T00:00:00\",\"1982-06-11T00:00:00\",\"1982-06-12T00:00:00\",\"1982-06-13T00:00:00\",\"1982-06-14T00:00:00\",\"1982-06-15T00:00:00\",\"1982-06-16T00:00:00\",\"1982-06-17T00:00:00\",\"1982-06-18T00:00:00\",\"1982-06-19T00:00:00\",\"1982-06-20T00:00:00\",\"1982-06-21T00:00:00\",\"1982-06-22T00:00:00\",\"1982-06-23T00:00:00\",\"1982-06-24T00:00:00\",\"1982-06-25T00:00:00\",\"1982-06-26T00:00:00\",\"1982-06-27T00:00:00\",\"1982-06-28T00:00:00\",\"1982-06-29T00:00:00\",\"1982-06-30T00:00:00\",\"1982-07-01T00:00:00\",\"1982-07-02T00:00:00\",\"1982-07-03T00:00:00\",\"1982-07-04T00:00:00\",\"1982-07-05T00:00:00\",\"1982-07-06T00:00:00\",\"1982-07-07T00:00:00\",\"1982-07-08T00:00:00\",\"1982-07-09T00:00:00\",\"1982-07-10T00:00:00\",\"1982-07-11T00:00:00\",\"1982-07-12T00:00:00\",\"1982-07-13T00:00:00\",\"1982-07-14T00:00:00\",\"1982-07-15T00:00:00\",\"1982-07-16T00:00:00\",\"1982-07-17T00:00:00\",\"1982-07-18T00:00:00\",\"1982-07-19T00:00:00\",\"1982-07-20T00:00:00\",\"1982-07-21T00:00:00\",\"1982-07-22T00:00:00\",\"1982-07-23T00:00:00\",\"1982-07-24T00:00:00\",\"1982-07-25T00:00:00\",\"1982-07-26T00:00:00\",\"1982-07-27T00:00:00\",\"1982-07-28T00:00:00\",\"1982-07-29T00:00:00\",\"1982-07-30T00:00:00\",\"1982-07-31T00:00:00\",\"1982-08-01T00:00:00\",\"1982-08-02T00:00:00\",\"1982-08-03T00:00:00\",\"1982-08-04T00:00:00\",\"1982-08-05T00:00:00\",\"1982-08-06T00:00:00\",\"1982-08-07T00:00:00\",\"1982-08-08T00:00:00\",\"1982-08-09T00:00:00\",\"1982-08-10T00:00:00\",\"1982-08-11T00:00:00\",\"1982-08-12T00:00:00\",\"1982-08-13T00:00:00\",\"1982-08-14T00:00:00\",\"1982-08-15T00:00:00\",\"1982-08-16T00:00:00\",\"1982-08-17T00:00:00\",\"1982-08-18T00:00:00\",\"1982-08-19T00:00:00\",\"1982-08-20T00:00:00\",\"1982-08-21T00:00:00\",\"1982-08-22T00:00:00\",\"1982-08-23T00:00:00\",\"1982-08-24T00:00:00\",\"1982-08-25T00:00:00\",\"1982-08-26T00:00:00\",\"1982-08-27T00:00:00\",\"1982-08-28T00:00:00\",\"1982-08-29T00:00:00\",\"1982-08-30T00:00:00\",\"1982-08-31T00:00:00\",\"1982-09-01T00:00:00\",\"1982-09-02T00:00:00\",\"1982-09-03T00:00:00\",\"1982-09-04T00:00:00\",\"1982-09-05T00:00:00\",\"1982-09-06T00:00:00\",\"1982-09-07T00:00:00\",\"1982-09-08T00:00:00\",\"1982-09-09T00:00:00\",\"1982-09-10T00:00:00\",\"1982-09-11T00:00:00\",\"1982-09-12T00:00:00\",\"1982-09-13T00:00:00\",\"1982-09-14T00:00:00\",\"1982-09-15T00:00:00\",\"1982-09-16T00:00:00\",\"1982-09-17T00:00:00\",\"1982-09-18T00:00:00\",\"1982-09-19T00:00:00\",\"1982-09-20T00:00:00\",\"1982-09-21T00:00:00\",\"1982-09-22T00:00:00\",\"1982-09-23T00:00:00\",\"1982-09-24T00:00:00\",\"1982-09-25T00:00:00\",\"1982-09-26T00:00:00\",\"1982-09-27T00:00:00\",\"1982-09-28T00:00:00\",\"1982-09-29T00:00:00\",\"1982-09-30T00:00:00\",\"1982-10-01T00:00:00\",\"1982-10-02T00:00:00\",\"1982-10-03T00:00:00\",\"1982-10-04T00:00:00\",\"1982-10-05T00:00:00\",\"1982-10-06T00:00:00\",\"1982-10-07T00:00:00\",\"1982-10-08T00:00:00\",\"1982-10-09T00:00:00\",\"1982-10-10T00:00:00\",\"1982-10-11T00:00:00\",\"1982-10-12T00:00:00\",\"1982-10-13T00:00:00\",\"1982-10-14T00:00:00\",\"1982-10-15T00:00:00\",\"1982-10-16T00:00:00\",\"1982-10-17T00:00:00\",\"1982-10-18T00:00:00\",\"1982-10-19T00:00:00\",\"1982-10-20T00:00:00\",\"1982-10-21T00:00:00\",\"1982-10-22T00:00:00\",\"1982-10-23T00:00:00\",\"1982-10-24T00:00:00\",\"1982-10-25T00:00:00\",\"1982-10-26T00:00:00\",\"1982-10-27T00:00:00\",\"1982-10-28T00:00:00\",\"1982-10-29T00:00:00\",\"1982-10-30T00:00:00\",\"1982-10-31T00:00:00\",\"1982-11-01T00:00:00\",\"1982-11-02T00:00:00\",\"1982-11-03T00:00:00\",\"1982-11-04T00:00:00\",\"1982-11-05T00:00:00\",\"1982-11-06T00:00:00\",\"1982-11-07T00:00:00\",\"1982-11-08T00:00:00\",\"1982-11-09T00:00:00\",\"1982-11-10T00:00:00\",\"1982-11-11T00:00:00\",\"1982-11-12T00:00:00\",\"1982-11-13T00:00:00\",\"1982-11-14T00:00:00\",\"1982-11-15T00:00:00\",\"1982-11-16T00:00:00\",\"1982-11-17T00:00:00\",\"1982-11-18T00:00:00\",\"1982-11-19T00:00:00\",\"1982-11-20T00:00:00\",\"1982-11-21T00:00:00\",\"1982-11-22T00:00:00\",\"1982-11-23T00:00:00\",\"1982-11-24T00:00:00\",\"1982-11-25T00:00:00\",\"1982-11-26T00:00:00\",\"1982-11-27T00:00:00\",\"1982-11-28T00:00:00\",\"1982-11-29T00:00:00\",\"1982-11-30T00:00:00\",\"1982-12-01T00:00:00\",\"1982-12-02T00:00:00\",\"1982-12-03T00:00:00\",\"1982-12-04T00:00:00\",\"1982-12-05T00:00:00\",\"1982-12-06T00:00:00\",\"1982-12-07T00:00:00\",\"1982-12-08T00:00:00\",\"1982-12-09T00:00:00\",\"1982-12-10T00:00:00\",\"1982-12-11T00:00:00\",\"1982-12-12T00:00:00\",\"1982-12-13T00:00:00\",\"1982-12-14T00:00:00\",\"1982-12-15T00:00:00\",\"1982-12-16T00:00:00\",\"1982-12-17T00:00:00\",\"1982-12-18T00:00:00\",\"1982-12-19T00:00:00\",\"1982-12-20T00:00:00\",\"1982-12-21T00:00:00\",\"1982-12-22T00:00:00\",\"1982-12-23T00:00:00\",\"1982-12-24T00:00:00\",\"1982-12-25T00:00:00\",\"1982-12-26T00:00:00\",\"1982-12-27T00:00:00\",\"1982-12-28T00:00:00\",\"1982-12-29T00:00:00\",\"1982-12-30T00:00:00\",\"1982-12-31T00:00:00\"],\"y\":[20.7,17.9,18.8,14.6,15.8,15.8,15.8,17.4,21.8,20.0,16.2,13.3,16.7,21.5,25.0,20.7,20.6,24.8,17.7,15.5,18.2,12.1,14.4,16.0,16.5,18.7,19.4,17.2,15.5,15.1,15.4,15.3,18.8,21.9,19.9,16.6,16.8,14.6,17.1,25.0,15.0,13.7,13.9,18.3,22.0,22.1,21.2,18.4,16.6,16.1,15.7,16.6,16.5,14.4,14.4,18.5,16.9,17.5,21.2,17.8,18.6,17.0,16.0,13.3,14.3,11.4,16.3,16.1,11.8,12.2,14.7,11.8,11.3,10.6,11.7,14.2,11.2,16.9,16.7,8.1,8.0,8.8,13.4,10.9,13.4,11.0,15.0,15.7,14.5,15.8,16.7,16.8,17.5,17.1,18.1,16.6,10.0,14.9,15.9,13.0,7.6,11.5,13.5,13.0,13.3,12.1,12.4,13.2,13.8,10.6,9.0,10.0,9.8,11.5,8.9,7.4,9.9,9.3,9.9,7.4,8.6,11.9,14.0,8.6,10.0,13.5,12.0,10.5,10.7,8.1,10.1,10.6,5.3,6.6,8.5,11.2,9.8,5.9,3.2,2.1,3.4,5.4,9.6,11.5,12.3,12.6,11.0,11.2,11.4,11.8,12.8,11.6,10.6,9.8,11.2,5.7,7.1,2.5,3.5,4.6,11.0,5.7,7.7,10.4,11.4,9.2,6.1,2.7,4.3,6.3,3.8,4.4,7.1,4.8,5.8,6.2,7.3,9.2,10.2,9.5,9.5,10.7,10.0,6.5,7.0,7.4,8.1,6.6,8.3,8.9,4.6,6.8,5.7,6.1,7.0,7.2,6.3,8.8,5.0,7.4,10.1,12.0,9.0,8.9,9.8,9.0,9.2,7.7,8.0,6.1,3.5,3.2,5.7,7.7,9.0,10.0,6.2,6.9,6.5,6.8,7.0,5.2,3.0,5.6,7.9,9.0,8.6,10.3,10.5,7.6,9.7,12.5,7.4,7.9,3.9,6.6,4.6,7.0,6.0,5.5,8.1,5.5,6.2,8.0,10.3,9.8,9.6,8.5,7.5,11.2,14.6,11.7,7.8,12.3,10.1,11.5,7.3,10.9,14.1,10.7,16.9,10.5,6.5,11.0,6.3,10.5,7.2,7.6,10.7,7.8,9.6,11.4,12.4,8.9,13.2,8.6,6.2,11.4,13.2,14.3,7.3,12.9,7.8,6.2,5.6,10.0,13.3,8.3,10.2,8.6,7.3,10.4,11.2,13.2,11.4,9.1,6.6,8.4,9.7,13.2,12.5,11.0,11.0,11.7,9.2,11.5,13.6,13.7,10.4,11.5,7.6,9.6,14.2,15.7,10.5,10.5,9.7,9.5,11.3,8.9,9.4,11.9,11.7,13.4,12.6,10.1,15.8,13.6,11.9,9.9,12.6,17.8,15.0,13.6,13.4,10.5,14.2,11.5,13.0,15.0,14.7,12.6,12.5,13.5,14.8,17.2,9.7,12.1,12.8,11.2,16.4,15.6,13.3,11.0,11.1,15.0,12.8,15.0,14.2,14.0,15.5,13.3,15.6,15.2,17.4,17.0,15.0,13.5,15.2,13.0,12.5,14.1,14.8,16.2,15.8,19.1,22.2,15.9,13.0,14.1,15.8,24.0,18.0,19.7,25.2,20.5,19.3,15.8,17.0,18.4,13.3,14.6,12.5,17.0,17.1,14.0,14.6,13.3,14.8,15.1,13.1,13.6,19.5,22.7,17.2,13.5,15.4,17.0,19.2,22.8,26.3,18.2,17.0,14.8,12.8,15.5,15.6,13.1,15.2,14.1,12.5,14.6,10.4,13.9,11.9,13.5,9.8,14.0,21.5,19.5,16.7,19.1,11.0,9.0,10.0,14.6,12.5,17.2,19.2,22.2,15.7,14.2,9.8,14.0,17.5,20.7,15.6,13.2,14.5,16.8,17.2,13.4,14.2,14.3,10.2,10.4,12.3,11.9,11.2,8.5,12.0,12.4,12.9,10.1,15.0,13.6,12.4,13.6,16.1,19.5,14.2,9.3,10.1,7.4,8.6,7.8,9.1,13.0,16.5,12.9,6.9,6.9,8.7,10.0,10.8,7.5,6.3,11.9,13.8,11.8,11.0,10.1,8.5,5.5,7.6,8.7,10.8,11.2,9.1,3.7,4.6,6.6,13.2,15.2,7.6,8.4,6.0,8.3,8.6,11.1,12.1,12.9,14.0,12.5,11.5,7.0,7.1,9.0,3.1,2.5,0.0,1.6,2.6,5.7,2.3,4.5,8.2,6.9,7.3,6.0,7.3,7.6,8.0,8.0,6.8,7.3,6.2,6.9,8.9,4.0,1.3,0.8,4.3,7.3,7.7,9.0,4.2,1.6,2.6,3.4,3.9,7.0,7.8,5.3,2.4,2.8,4.0,7.5,7.8,5.6,3.3,5.0,3.7,3.9,5.2,0.2,0.8,0.9,3.5,6.6,9.5,9.0,3.5,4.5,5.7,5.6,7.1,9.7,8.3,9.1,2.8,2.2,4.5,3.8,3.8,6.2,11.5,10.2,7.9,9.0,9.5,6.0,8.2,9.2,4.3,6.6,9.4,13.2,6.6,5.1,12.1,11.2,8.5,4.6,7.0,14.2,12.7,7.6,4.0,10.0,10.5,5.0,4.5,8.2,4.3,9.8,5.8,5.0,8.5,9.0,3.6,6.7,6.7,10.1,15.0,8.9,5.7,4.2,4.0,5.3,6.3,8.5,11.5,7.7,9.2,7.8,6.3,6.3,8.6,6.1,13.2,9.9,4.7,5.8,14.9,10.7,8.6,9.4,5.7,10.9,13.1,10.4,8.2,9.8,7.5,5.8,9.8,7.9,8.7,10.0,10.6,8.0,10.2,15.1,13.9,9.2,9.0,13.2,7.0,10.6,6.9,9.5,12.5,13.6,17.7,16.0,11.3,10.5,14.4,10.3,9.0,11.1,14.5,18.0,12.8,10.7,9.1,8.7,12.4,12.6,10.3,13.7,16.0,15.8,12.1,12.5,12.2,13.7,16.1,15.5,10.3,10.5,11.0,11.9,13.0,12.2,10.6,13.0,13.0,12.2,12.6,18.7,15.2,15.3,13.9,15.8,13.0,13.0,13.7,12.0,10.8,15.6,15.3,13.9,13.0,15.3,16.3,15.8,17.7,16.3]}];\n",
       "            var layout = \"\";\n",
       "            Plotly.newPlot('e9e15455-0d7e-47e1-9256-ab1368140d44', data, layout);\n",
       "        \n",
       "});\r\n",
       "};\r\n",
       "if ((typeof(requirejs) !==  typeof(Function)) || (typeof(requirejs.config) !== typeof(Function))) { \r\n",
       "    var script = document.createElement(\"script\"); \r\n",
       "    script.setAttribute(\"src\", \"https://cdnjs.cloudflare.com/ajax/libs/require.js/2.3.6/require.min.js\"); \r\n",
       "    script.onload = function(){\r\n",
       "        renderPlotly();\r\n",
       "    };\r\n",
       "    document.getElementsByTagName(\"head\")[0].appendChild(script); \r\n",
       "}\r\n",
       "else {\r\n",
       "    renderPlotly();\r\n",
       "}\n",
       "</script>\n"
      ]
     },
     "metadata": {},
     "output_type": "display_data"
    }
   ],
   "source": [
    "using XPlot.Plotly;\n",
    "\n",
    "\n",
    "var chart = Chart.Plot(\n",
    "    new Graph.Scattergl()\n",
    "    {\n",
    "        x = dates,\n",
    "        y = temps\n",
    "    }\n",
    ");\n",
    "\n",
    "chart.Width = 600;\n",
    "chart.Height = 600;\n",
    "display(chart);"
   ]
  },
  {
   "cell_type": "markdown",
   "metadata": {
    "nteract": {
     "transient": {
      "deleting": false
     }
    }
   },
   "source": [
    "Notice that the data has a sinusoidal pattern, similar to a cosine function with a period of 365 days (1 year).\n",
    "Let's try fitting a linear regression model.\n",
    "\n",
    "A linear regression model has a formula of `y=mx+b`, where `x` (called the independent variable) represents time and `y` is the dependent variable."
   ]
  },
  {
   "cell_type": "code",
   "execution_count": 26,
   "metadata": {},
   "outputs": [
    {
     "ename": "Unhandled exception",
     "evalue": "System.ArgumentOutOfRangeException: Label column 'Label' not found (Parameter 'schema')\n   at Microsoft.ML.Data.RoleMappedSchema.MapFromNames(DataViewSchema schema, IEnumerable`1 roles, Boolean opt)\n   at Microsoft.ML.Data.RoleMappedSchema..ctor(DataViewSchema schema, IEnumerable`1 roles, Boolean opt)\n   at Microsoft.ML.Data.RoleMappedData..ctor(IDataView data, Boolean opt, KeyValuePair`2[] roles)\n   at Microsoft.ML.Data.RegressionEvaluator.Evaluate(IDataView data, String label, String score)\n   at Microsoft.ML.RegressionCatalog.Evaluate(IDataView data, String labelColumnName, String scoreColumnName)\n   at Submission#28.<<Initialize>>d__0.MoveNext()\n--- End of stack trace from previous location where exception was thrown ---\n   at Microsoft.CodeAnalysis.Scripting.ScriptExecutionState.RunSubmissionsAsync[TResult](ImmutableArray`1 precedingExecutors, Func`2 currentExecutor, StrongBox`1 exceptionHolderOpt, Func`2 catchExceptionOpt, CancellationToken cancellationToken)",
     "output_type": "error",
     "traceback": [
      "System.ArgumentOutOfRangeException: Label column 'Label' not found (Parameter 'schema')\n   at Microsoft.ML.Data.RoleMappedSchema.MapFromNames(DataViewSchema schema, IEnumerable`1 roles, Boolean opt)\n   at Microsoft.ML.Data.RoleMappedSchema..ctor(DataViewSchema schema, IEnumerable`1 roles, Boolean opt)\n   at Microsoft.ML.Data.RoleMappedData..ctor(IDataView data, Boolean opt, KeyValuePair`2[] roles)\n   at Microsoft.ML.Data.RegressionEvaluator.Evaluate(IDataView data, String label, String score)\n   at Microsoft.ML.RegressionCatalog.Evaluate(IDataView data, String labelColumnName, String scoreColumnName)\n   at Submission#28.<<Initialize>>d__0.MoveNext()\n--- End of stack trace from previous location where exception was thrown ---\n   at Microsoft.CodeAnalysis.Scripting.ScriptExecutionState.RunSubmissionsAsync[TResult](ImmutableArray`1 precedingExecutors, Func`2 currentExecutor, StrongBox`1 exceptionHolderOpt, Func`2 catchExceptionOpt, CancellationToken cancellationToken)",
      "   at Microsoft.ML.Data.RoleMappedSchema.MapFromNames(DataViewSchema schema, IEnumerable`1 roles, Boolean opt)",
      "   at Microsoft.ML.Data.RoleMappedSchema..ctor(DataViewSchema schema, IEnumerable`1 roles, Boolean opt)",
      "   at Microsoft.ML.Data.RoleMappedData..ctor(IDataView data, Boolean opt, KeyValuePair`2[] roles)",
      "   at Microsoft.ML.Data.RegressionEvaluator.Evaluate(IDataView data, String label, String score)",
      "   at Microsoft.ML.RegressionCatalog.Evaluate(IDataView data, String labelColumnName, String scoreColumnName)",
      "   at Submission#28.<<Initialize>>d__0.MoveNext()",
      "--- End of stack trace from previous location where exception was thrown ---",
      "   at Microsoft.CodeAnalysis.Scripting.ScriptExecutionState.RunSubmissionsAsync[TResult](ImmutableArray`1 precedingExecutors, Func`2 currentExecutor, StrongBox`1 exceptionHolderOpt, Func`2 catchExceptionOpt, CancellationToken cancellationToken)"
     ]
    }
   ],
   "source": [
    "using System;\n",
    "using System.Collections.Generic;\n",
    "using System.Linq;\n",
    "using Microsoft.ML;\n",
    "using Microsoft.ML.Data;\n",
    "\n",
    "var forecastingPipeline = mlContext.Regression.Trainers.Ols(\n",
    "    labelColumnName: \"MinTemp\", \n",
    "    featureColumnName: \"DaysSince\");\n",
    "    \n",
    "var forecaster = forecastingPipeline.Fit(trainData);\n",
    "\n",
    "// Use trained model to make inferences on test data\n",
    "IDataView testDataPredictions = forecaster.Transform(testData);\n",
    "\n",
    "// Extract model metrics and get RSquared\n",
    "RegressionMetrics trainedModelMetrics = mlContext.Regression.Evaluate(testDataPredictions);\n",
    "double rSquared = trainedModelMetrics.RSquared;\n",
    "display(rSquared);"
   ]
  },
  {
   "cell_type": "code",
   "execution_count": 12,
   "metadata": {},
   "outputs": [
    {
     "ename": "Unhandled exception",
     "evalue": "(1,49): error CS1061: 'ForecastingCatalog' does not contain a definition for 'ForecastBySsa' and no accessible extension method 'ForecastBySsa' accepting a first argument of type 'ForecastingCatalog' could be found (are you missing a using directive or an assembly reference?)",
     "output_type": "error",
     "traceback": [
      "(1,49): error CS1061: 'ForecastingCatalog' does not contain a definition for 'ForecastBySsa' and no accessible extension method 'ForecastBySsa' accepting a first argument of type 'ForecastingCatalog' could be found (are you missing a using directive or an assembly reference?)"
     ]
    }
   ],
   "source": [
    "var forecastingPipeline = mlContext.Forecasting.ForecastBySsa(\n",
    "    outputColumnName: \"ForecastedRentals\",\n",
    "    inputColumnName: \"TotalRentals\",\n",
    "    windowSize: 7,\n",
    "    seriesLength: 30,\n",
    "    trainSize: 365,\n",
    "    horizon: 7,\n",
    "    confidenceLevel: 0.95f,\n",
    "    confidenceLowerBoundColumn: \"LowerBoundRentals\",\n",
    "    confidenceUpperBoundColumn: \"UpperBoundRentals\");"
   ]
  },
  {
   "cell_type": "code",
   "execution_count": 13,
   "metadata": {
    "collapsed": false,
    "jupyter": {
     "outputs_hidden": false,
     "source_hidden": false
    },
    "nteract": {
     "transient": {
      "deleting": false
     }
    }
   },
   "outputs": [],
   "source": [
    "static void Evaluate(IDataView testData, ITransformer model, MLContext mlContext)\n",
    "{\n",
    "    IDataView predictions = model.Transform(testData);\n",
    "    IEnumerable<float> actual =\n",
    "    mlContext.Data.CreateEnumerable<TemperatureParsed>(testData, true)\n",
    "        .Select(observed => observed.MinTemp);\n",
    "    IEnumerable<float> forecast =\n",
    "    mlContext.Data.CreateEnumerable<TemperatureParsed>(predictions, true)\n",
    "        .Select(prediction => prediction.MinTemp);\n",
    "}"
   ]
  }
 ],
 "metadata": {
  "kernel_info": {
   "name": ".net-csharp"
  },
  "kernelspec": {
   "display_name": ".NET (C#)",
   "language": "C#",
   "name": ".net-csharp"
  },
  "language_info": {
   "file_extension": ".cs",
   "mimetype": "text/x-csharp",
   "name": "C#",
   "pygments_lexer": "csharp",
   "version": "8.0"
  },
  "nteract": {
   "version": "nteract-front-end@1.0.0"
  }
 },
 "nbformat": 4,
 "nbformat_minor": 4
}
